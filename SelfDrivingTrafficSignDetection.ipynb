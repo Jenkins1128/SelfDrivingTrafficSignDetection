{
 "cells": [
  {
   "cell_type": "markdown",
   "id": "00639790-3c60-4f66-9ec3-25d4ee17eaec",
   "metadata": {},
   "source": [
    "# Self Driving Traffic Sign Detection"
   ]
  },
  {
   "cell_type": "markdown",
   "id": "8f876881-edf5-4099-8be5-d34a393877a8",
   "metadata": {},
   "source": [
    "Isaiah Jenkins"
   ]
  },
  {
   "cell_type": "markdown",
   "id": "bb0dcbf3-c303-49ec-8187-7b44990b1ece",
   "metadata": {},
   "source": [
    "## Import the required libraries"
   ]
  },
  {
   "cell_type": "code",
   "execution_count": null,
   "id": "012b37ac-9efb-417e-a169-9011d90a605a",
   "metadata": {},
   "outputs": [],
   "source": [
    "import tensorflow as tf\n",
    "print(\"TensorFlow version:\", tf.__version__)\n",
    "print(\"Available devices:\", tf.config.list_physical_devices())"
   ]
  },
  {
   "cell_type": "markdown",
   "id": "95f0a8fe-01b0-4928-beba-1d32baf1ece0",
   "metadata": {},
   "source": [
    "## 1. About the data"
   ]
  },
  {
   "cell_type": "code",
   "execution_count": null,
   "id": "766a5970-819d-451a-8989-f200701d3f72",
   "metadata": {},
   "outputs": [],
   "source": []
  },
  {
   "cell_type": "code",
   "execution_count": null,
   "id": "cf442439-50e5-4cfb-adac-0cc2262814c3",
   "metadata": {},
   "outputs": [],
   "source": []
  },
  {
   "cell_type": "markdown",
   "id": "a3ba6629-daed-4c51-bd9f-dcea2b5d31f1",
   "metadata": {},
   "source": [
    "## 2. Objectives"
   ]
  },
  {
   "cell_type": "code",
   "execution_count": null,
   "id": "cd837f35-aef1-46c2-a1af-b2700f9cf8c8",
   "metadata": {},
   "outputs": [],
   "source": []
  },
  {
   "cell_type": "markdown",
   "id": "70704988-df5d-414e-bb7b-a6e2ce582de2",
   "metadata": {},
   "source": [
    "## 3. Data Exploration, Cleaning and Feature Engineering"
   ]
  },
  {
   "cell_type": "code",
   "execution_count": null,
   "id": "25dc52e8-f818-4044-94ca-5d354c9d8610",
   "metadata": {},
   "outputs": [],
   "source": []
  },
  {
   "cell_type": "markdown",
   "id": "4b7ec18e-6c27-4948-b9a7-bf600e68ae78",
   "metadata": {},
   "source": [
    "### Load in data"
   ]
  },
  {
   "cell_type": "code",
   "execution_count": null,
   "id": "ca496251-ff93-4235-bffe-faef1cb98d4d",
   "metadata": {},
   "outputs": [],
   "source": []
  },
  {
   "cell_type": "code",
   "execution_count": null,
   "id": "2f534363-2f7b-48d3-937d-2fa7a2c45a28",
   "metadata": {},
   "outputs": [],
   "source": []
  },
  {
   "cell_type": "code",
   "execution_count": null,
   "id": "ada1423d-de74-4699-9fd5-3d367983a643",
   "metadata": {},
   "outputs": [],
   "source": []
  },
  {
   "cell_type": "markdown",
   "id": "9be13a81-f2fd-49ef-aa7f-2d29ab5dfa78",
   "metadata": {},
   "source": [
    "## 4. CNN Models"
   ]
  },
  {
   "cell_type": "code",
   "execution_count": null,
   "id": "0e001153-dad0-498b-af1a-4dffb21927d9",
   "metadata": {},
   "outputs": [],
   "source": []
  },
  {
   "cell_type": "code",
   "execution_count": null,
   "id": "3e2925d0-d945-49dc-9041-23e3efad28fa",
   "metadata": {},
   "outputs": [],
   "source": []
  },
  {
   "cell_type": "markdown",
   "id": "c351690e-0e68-411c-8cd4-d71561b3f0d1",
   "metadata": {},
   "source": [
    "### Summary of Models"
   ]
  },
  {
   "cell_type": "code",
   "execution_count": null,
   "id": "b8d38059-3f5e-451a-98de-b18b5ee0de83",
   "metadata": {},
   "outputs": [],
   "source": []
  },
  {
   "cell_type": "code",
   "execution_count": null,
   "id": "f4960148-ddd0-4559-8911-fd45133aded0",
   "metadata": {},
   "outputs": [],
   "source": []
  },
  {
   "cell_type": "markdown",
   "id": "ff95ff82-0b8b-403f-b952-a05799e2566c",
   "metadata": {},
   "source": [
    "## 5. Insights and Key Findings"
   ]
  },
  {
   "cell_type": "code",
   "execution_count": null,
   "id": "cb5ea98e-2357-45ed-a658-84514f93ce3b",
   "metadata": {},
   "outputs": [],
   "source": []
  },
  {
   "cell_type": "code",
   "execution_count": null,
   "id": "fa028e92-5e80-4a89-9e9d-ac905adec60e",
   "metadata": {},
   "outputs": [],
   "source": []
  },
  {
   "cell_type": "markdown",
   "id": "7f70328d-c190-4a44-add0-667c97ed67d1",
   "metadata": {},
   "source": [
    "## 6. Next Steps"
   ]
  },
  {
   "cell_type": "code",
   "execution_count": null,
   "id": "08c09d7c-723f-459e-9c0c-37408dcf2df4",
   "metadata": {},
   "outputs": [],
   "source": []
  }
 ],
 "metadata": {
  "kernelspec": {
   "display_name": "Python 3 (ipykernel)",
   "language": "python",
   "name": "python3"
  },
  "language_info": {
   "codemirror_mode": {
    "name": "ipython",
    "version": 3
   },
   "file_extension": ".py",
   "mimetype": "text/x-python",
   "name": "python",
   "nbconvert_exporter": "python",
   "pygments_lexer": "ipython3",
   "version": "3.12.2"
  }
 },
 "nbformat": 4,
 "nbformat_minor": 5
}
